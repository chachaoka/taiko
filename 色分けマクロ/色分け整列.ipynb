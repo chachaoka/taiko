{
 "cells": [
  {
   "cell_type": "code",
   "execution_count": 3,
   "id": "f049082e",
   "metadata": {},
   "outputs": [
    {
     "data": {
      "text/plain": [
       "'中間成果物.xlsx'"
      ]
     },
     "execution_count": 3,
     "metadata": {},
     "output_type": "execute_result"
    }
   ],
   "source": [
    "import openpyxl\n",
    "from copy import copy\n",
    "from openpyxl.styles import PatternFill\n",
    "\n",
    "# 元のファイルを読み込む\n",
    "file_path = 'データ置き場/LB71_IRS23-00445_A052_LB68_IRS23-00669_B027_1_CRC-7BEBDE36_Classified.xlsx'  # 元のファイルのパスを指定\n",
    "workbook = openpyxl.load_workbook(file_path, data_only=True)\n",
    "\n",
    "# 処理1: 「変更1」シートのB列のデータを背景色に基づいて並び替える\n",
    "sheet = workbook['変更1']\n",
    "data_with_colors = []\n",
    "for row in range(7, 152):  # B列の7行目から151行目まで\n",
    "    cell = sheet.cell(row, 2)  # B列\n",
    "    data_with_colors.append((cell.value, cell.fill.start_color.rgb if cell.fill.fill_type else None))\n",
    "\n",
    "data_with_colors.sort(key=lambda x: x[1] or '')  # 背景色で並び替え\n",
    "\n",
    "# 新しいワークブックを作成し、「並び替え」シートにデータを出力\n",
    "new_workbook = openpyxl.Workbook()\n",
    "sort_sheet = new_workbook.create_sheet('定数並び替え一覧', 0)\n",
    "for index, (value, color) in enumerate(data_with_colors, start=7):\n",
    "    cell = sort_sheet.cell(row=index, column=2)  # B列\n",
    "    cell.value = value\n",
    "    if color:\n",
    "        cell.fill = PatternFill(start_color=color, fill_type=\"solid\")\n",
    "        \n",
    "# 処理2: 「変更1」シートのA列からR列のデータと色情報を「仮」シートにコピー\n",
    "temp_sheet = new_workbook.create_sheet('生データ', 1)\n",
    "for row in range(1, sheet.max_row + 1):\n",
    "    for col in range(1, 19):  # A列(1)からR列(18)まで\n",
    "        original_cell = sheet.cell(row, col)\n",
    "        new_cell = temp_sheet.cell(row, col)\n",
    "        new_cell.value = original_cell.value\n",
    "        if original_cell.has_style:  # セルにスタイルがあればコピー\n",
    "            new_cell.font = copy(original_cell.font)\n",
    "            new_cell.border = copy(original_cell.border)\n",
    "            new_cell.fill = copy(original_cell.fill)\n",
    "            new_cell.number_format = copy(original_cell.number_format)\n",
    "            new_cell.protection = copy(original_cell.protection)\n",
    "            new_cell.alignment = copy(original_cell.alignment)\n",
    "\n",
    "# 処理3: 「仮」シートのデータを条件に基づいて「生データ_抽出」シートにコピー\n",
    "max_row_temp_sheet = temp_sheet.max_row\n",
    "temp2_sheet = new_workbook.create_sheet('生データ_抽出', 2)\n",
    "for row in range(1, max_row_temp_sheet + 1):\n",
    "    if row + 2 <= max_row_temp_sheet and temp_sheet.cell(row + 2, 1).value == '変更理由':\n",
    "        temp2_sheet.cell(row, 1).value = temp_sheet.cell(row, 1).value\n",
    "        \n",
    "# 処理4: 「生データ_抽出」シートのA列データの隣の列に行数を追記\n",
    "max_row_temp2_sheet = temp2_sheet.max_row\n",
    "for row in range(1, max_row_temp2_sheet + 1):\n",
    "    current_cell = temp2_sheet.cell(row, 1)\n",
    "    if current_cell.value is not None:\n",
    "        count = 0\n",
    "        for next_row in range(row + 1, max_row_temp2_sheet + 1):\n",
    "            if temp2_sheet.cell(next_row, 1).value is not None:\n",
    "                break\n",
    "            count += 1\n",
    "        temp2_sheet.cell(row, 2).value = count\n",
    "\n",
    "# 処理5: 「定数並び替え一覧」と「生データ_抽出」シートを比較し、「物理値並び替え一覧」シートに一致するデータを追記\n",
    "temp3_sheet = new_workbook.create_sheet('物理値並び替え一覧')\n",
    "sort_data = [cell.value for cell in sort_sheet['B'][6:151]]  # B7 to B151 in '定数並び替え一覧' sheet\n",
    "temp2_data = [cell.value for cell in temp2_sheet['A'][:max_row_temp2_sheet]]  # Up to A3883 in '生データ_抽出' sheet\n",
    "\n",
    "output_row_index = 221  # Start output row\n",
    "for data in sort_data:\n",
    "    if data in temp2_data:\n",
    "        # Output matching data to '物理値並び替え一覧' sheet\n",
    "        temp3_sheet.cell(row=output_row_index, column=1).value = data\n",
    "\n",
    "        # Retrieve the count of matching data rows from column B of '生データ_抽出' sheet\n",
    "        match_row_index = temp2_data.index(data)\n",
    "        space_count = temp2_sheet.cell(row=match_row_index + 1, column=2).value or 0\n",
    "        \n",
    "        temp3_sheet.cell(row=output_row_index, column=2).value = space_count\n",
    "\n",
    "        # Update the row index for the next matching data\n",
    "        output_row_index += space_count + 1  # Add the count of blank rows and the current data row\n",
    "\n",
    "# Saving the final workbook\n",
    "final_workbook_path = '中間成果物.xlsx'\n",
    "new_workbook.save(final_workbook_path)\n",
    "final_workbook_path"
   ]
  },
  {
   "cell_type": "code",
   "execution_count": 22,
   "id": "a1d42a8c",
   "metadata": {},
   "outputs": [
    {
     "ename": "NameError",
     "evalue": "name 'Font' is not defined",
     "output_type": "error",
     "traceback": [
      "\u001b[0;31m---------------------------------------------------------------------------\u001b[0m",
      "\u001b[0;31mNameError\u001b[0m                                 Traceback (most recent call last)",
      "\u001b[0;32m<ipython-input-22-7ccb8a147485>\u001b[0m in \u001b[0;36m<module>\u001b[0;34m\u001b[0m\n\u001b[1;32m     52\u001b[0m \u001b[0;34m\u001b[0m\u001b[0m\n\u001b[1;32m     53\u001b[0m                 \u001b[0;31m# Output the matching string and copy cell properties in column A\u001b[0m\u001b[0;34m\u001b[0m\u001b[0;34m\u001b[0m\u001b[0;34m\u001b[0m\u001b[0m\n\u001b[0;32m---> 54\u001b[0;31m                 \u001b[0mcopy_cell_properties\u001b[0m\u001b[0;34m(\u001b[0m\u001b[0mcell\u001b[0m\u001b[0;34m,\u001b[0m \u001b[0mnew_sheet\u001b[0m\u001b[0;34m.\u001b[0m\u001b[0mcell\u001b[0m\u001b[0;34m(\u001b[0m\u001b[0mrow\u001b[0m\u001b[0;34m=\u001b[0m\u001b[0mrow\u001b[0m\u001b[0;34m,\u001b[0m \u001b[0mcolumn\u001b[0m\u001b[0;34m=\u001b[0m\u001b[0;36m1\u001b[0m\u001b[0;34m)\u001b[0m\u001b[0;34m)\u001b[0m\u001b[0;34m\u001b[0m\u001b[0;34m\u001b[0m\u001b[0m\n\u001b[0m\u001b[1;32m     55\u001b[0m                 \u001b[0;31m# Output the value and copy cell properties from '物理値並び替え一覧' B column\u001b[0m\u001b[0;34m\u001b[0m\u001b[0;34m\u001b[0m\u001b[0;34m\u001b[0m\u001b[0m\n\u001b[1;32m     56\u001b[0m                 \u001b[0mcopy_cell_properties\u001b[0m\u001b[0;34m(\u001b[0m\u001b[0msheet_sorted_values\u001b[0m\u001b[0;34m.\u001b[0m\u001b[0mcell\u001b[0m\u001b[0;34m(\u001b[0m\u001b[0mrow\u001b[0m\u001b[0;34m=\u001b[0m\u001b[0mrow\u001b[0m\u001b[0;34m,\u001b[0m \u001b[0mcolumn\u001b[0m\u001b[0;34m=\u001b[0m\u001b[0;36m2\u001b[0m\u001b[0;34m)\u001b[0m\u001b[0;34m,\u001b[0m \u001b[0mnew_sheet\u001b[0m\u001b[0;34m.\u001b[0m\u001b[0mcell\u001b[0m\u001b[0;34m(\u001b[0m\u001b[0mrow\u001b[0m\u001b[0;34m=\u001b[0m\u001b[0mrow\u001b[0m\u001b[0;34m,\u001b[0m \u001b[0mcolumn\u001b[0m\u001b[0;34m=\u001b[0m\u001b[0;36m2\u001b[0m\u001b[0;34m)\u001b[0m\u001b[0;34m)\u001b[0m\u001b[0;34m\u001b[0m\u001b[0;34m\u001b[0m\u001b[0m\n",
      "\u001b[0;32m<ipython-input-22-7ccb8a147485>\u001b[0m in \u001b[0;36mcopy_cell_properties\u001b[0;34m(source_cell, target_cell)\u001b[0m\n\u001b[1;32m     15\u001b[0m \u001b[0;32mdef\u001b[0m \u001b[0mcopy_cell_properties\u001b[0m\u001b[0;34m(\u001b[0m\u001b[0msource_cell\u001b[0m\u001b[0;34m,\u001b[0m \u001b[0mtarget_cell\u001b[0m\u001b[0;34m)\u001b[0m\u001b[0;34m:\u001b[0m\u001b[0;34m\u001b[0m\u001b[0;34m\u001b[0m\u001b[0m\n\u001b[1;32m     16\u001b[0m     \u001b[0mtarget_cell\u001b[0m\u001b[0;34m.\u001b[0m\u001b[0mvalue\u001b[0m \u001b[0;34m=\u001b[0m \u001b[0msource_cell\u001b[0m\u001b[0;34m.\u001b[0m\u001b[0mvalue\u001b[0m\u001b[0;34m\u001b[0m\u001b[0;34m\u001b[0m\u001b[0m\n\u001b[0;32m---> 17\u001b[0;31m     target_cell.font = Font(name=source_cell.font.name, size=source_cell.font.size,\n\u001b[0m\u001b[1;32m     18\u001b[0m                             \u001b[0mbold\u001b[0m\u001b[0;34m=\u001b[0m\u001b[0msource_cell\u001b[0m\u001b[0;34m.\u001b[0m\u001b[0mfont\u001b[0m\u001b[0;34m.\u001b[0m\u001b[0mbold\u001b[0m\u001b[0;34m,\u001b[0m \u001b[0mitalic\u001b[0m\u001b[0;34m=\u001b[0m\u001b[0msource_cell\u001b[0m\u001b[0;34m.\u001b[0m\u001b[0mfont\u001b[0m\u001b[0;34m.\u001b[0m\u001b[0mitalic\u001b[0m\u001b[0;34m,\u001b[0m\u001b[0;34m\u001b[0m\u001b[0;34m\u001b[0m\u001b[0m\n\u001b[1;32m     19\u001b[0m                             \u001b[0mvertAlign\u001b[0m\u001b[0;34m=\u001b[0m\u001b[0msource_cell\u001b[0m\u001b[0;34m.\u001b[0m\u001b[0mfont\u001b[0m\u001b[0;34m.\u001b[0m\u001b[0mvertAlign\u001b[0m\u001b[0;34m,\u001b[0m \u001b[0munderline\u001b[0m\u001b[0;34m=\u001b[0m\u001b[0msource_cell\u001b[0m\u001b[0;34m.\u001b[0m\u001b[0mfont\u001b[0m\u001b[0;34m.\u001b[0m\u001b[0munderline\u001b[0m\u001b[0;34m,\u001b[0m\u001b[0;34m\u001b[0m\u001b[0;34m\u001b[0m\u001b[0m\n",
      "\u001b[0;31mNameError\u001b[0m: name 'Font' is not defined"
     ]
    }
   ],
   "source": [
    "# Adjusting the code to compare A column values row by row from row 22 onwards in both sheets\n",
    "# and then output matching strings in the new sheet at the same row as in '物理値並び替え一覧'\n",
    "# Also, adding logging to display which rows are being compared and matched\n",
    "\n",
    "# 元のファイルを読み込む\n",
    "workbook = openpyxl.load_workbook(final_workbook_path)\n",
    "\n",
    "# Adjusting the code to:\n",
    "# 1. Find rows in '物理値並び替え一覧' where A column has a string\n",
    "# 2. Compare these values with all rows in A column of '生データ'\n",
    "# 3. If a match is found, output the matching string to the new file at the corresponding row in A column\n",
    "# 4. Output the values of the next row (y+1) from '生データ' in columns A and B to the next row (x+1) in columns A and B of the new file\n",
    "\n",
    "# Function to copy cell properties\n",
    "def copy_cell_properties(source_cell, target_cell):\n",
    "    target_cell.value = source_cell.value\n",
    "    target_cell.font = Font(name=source_cell.font.name, size=source_cell.font.size,\n",
    "                            bold=source_cell.font.bold, italic=source_cell.font.italic,\n",
    "                            vertAlign=source_cell.font.vertAlign, underline=source_cell.font.underline,\n",
    "                            strike=source_cell.font.strike, color=source_cell.font.color)\n",
    "    target_cell.border = Border(left=source_cell.border.left, right=source_cell.border.right,\n",
    "                                top=source_cell.border.top, bottom=source_cell.border.bottom,\n",
    "                                diagonal=source_cell.border.diagonal, diagonal_direction=source_cell.border.diagonal_direction,\n",
    "                                outline=source_cell.border.outline, vertical=source_cell.border.vertical,\n",
    "                                horizontal=source_cell.border.horizontal)\n",
    "    target_cell.fill = PatternFill(fill_type=source_cell.fill.fill_type, start_color=source_cell.fill.start_color,\n",
    "                                   end_color=source_cell.fill.end_color)\n",
    "    target_cell.number_format = source_cell.number_format\n",
    "    target_cell.protection = Protection(locked=source_cell.protection.locked, hidden=source_cell.protection.hidden)\n",
    "    target_cell.alignment = Alignment(horizontal=source_cell.alignment.horizontal, vertical=source_cell.alignment.vertical,\n",
    "                                      text_rotation=source_cell.alignment.text_rotation, wrap_text=source_cell.alignment.wrap_text,\n",
    "                                      shrink_to_fit=source_cell.alignment.shrink_to_fit, indent=source_cell.alignment.indent)\n",
    "\n",
    "# Initializing the new workbook and sheet for output\n",
    "new_workbook = openpyxl.Workbook()\n",
    "new_sheet = new_workbook.active\n",
    "new_sheet.title = '物理値並び替え一覧'\n",
    "\n",
    "# Access the two sheets again\n",
    "sheet_raw_data = workbook['生データ']\n",
    "sheet_sorted_values = workbook['物理値並び替え一覧']\n",
    "\n",
    "# Iterate over '物理値並び替え一覧' and compare with '生データ'\n",
    "for row, cell in enumerate(sheet_sorted_values['A'], start=1):\n",
    "    if cell.value:  # Check if there is a string in the cell\n",
    "        for raw_row, raw_cell in enumerate(sheet_raw_data['A'], start=1):\n",
    "            if cell.value == raw_cell.value:\n",
    "                # Output the matching string in column A\n",
    "                #new_sheet.cell(row=row, column=1, value=cell.value)\n",
    "                # Output the value from '物理値並び替え一覧' B column to the new file B column\n",
    "                #new_sheet.cell(row=row, column=2, value=sheet_sorted_values.cell(row=row, column=2).value)\n",
    "                \n",
    "                # Output the matching string and copy cell properties in column A\n",
    "                copy_cell_properties(cell, new_sheet.cell(row=row, column=1))\n",
    "                # Output the value and copy cell properties from '物理値並び替え一覧' B column\n",
    "                copy_cell_properties(sheet_sorted_values.cell(row=row, column=2), new_sheet.cell(row=row, column=2))\n",
    "\n",
    "                # Output the values from the next row of '生データ' in columns A and B to the next row in columns A and B of new file\n",
    "                if raw_row < sheet_raw_data.max_row:\n",
    "                    for gyo in range(sheet_sorted_values.cell(row=row, column=2).value):\n",
    "                        gyo = gyo + 1\n",
    "                        for retsu in range(18):#R\n",
    "                            retsu = retsu + 1\n",
    "                            next_raw_value = sheet_raw_data.cell(row=raw_row + gyo, column=retsu).value\n",
    "                            new_sheet.cell(row=row + gyo, column=retsu, value=next_raw_value)\n",
    "                break\n",
    "\n",
    "\n",
    "# Save the updated new workbook\n",
    "updated_output_file_path_advanced_b = '変更後_一致した文字列_拡張版_B列.xlsx'\n",
    "new_workbook.save(updated_output_file_path_advanced_b)\n",
    "\n",
    "updated_output_file_path_advanced_b\n"
   ]
  },
  {
   "cell_type": "code",
   "execution_count": 17,
   "id": "e83e06cc",
   "metadata": {},
   "outputs": [
    {
     "data": {
      "text/plain": [
       "<Cell '物理値並び替え一覧'.A162>"
      ]
     },
     "execution_count": 17,
     "metadata": {},
     "output_type": "execute_result"
    }
   ],
   "source": [
    "sheet_sorted_values.cell(row, 1)"
   ]
  },
  {
   "cell_type": "code",
   "execution_count": 18,
   "id": "01559e1e",
   "metadata": {},
   "outputs": [
    {
     "data": {
      "text/plain": [
       "3883"
      ]
     },
     "execution_count": 18,
     "metadata": {},
     "output_type": "execute_result"
    }
   ],
   "source": [
    "sheet_raw_data.max_row"
   ]
  },
  {
   "cell_type": "code",
   "execution_count": 10,
   "id": "0e43ed8d",
   "metadata": {},
   "outputs": [
    {
     "data": {
      "text/plain": [
       "<Worksheet \"物理値並び替え一覧\">"
      ]
     },
     "execution_count": 10,
     "metadata": {},
     "output_type": "execute_result"
    }
   ],
   "source": [
    "sheet_sorted_values"
   ]
  },
  {
   "cell_type": "code",
   "execution_count": 11,
   "id": "238620e5",
   "metadata": {},
   "outputs": [
    {
     "data": {
      "text/plain": [
       "<Worksheet \"生データ\">"
      ]
     },
     "execution_count": 11,
     "metadata": {},
     "output_type": "execute_result"
    }
   ],
   "source": [
    "sheet_raw_data"
   ]
  },
  {
   "cell_type": "code",
   "execution_count": 32,
   "id": "a5e69155",
   "metadata": {},
   "outputs": [
    {
     "data": {
      "text/plain": [
       "'変更後_一致した文字列_拡張版_B列.xlsx'"
      ]
     },
     "execution_count": 32,
     "metadata": {},
     "output_type": "execute_result"
    }
   ],
   "source": [
    "# I will fix the NameError by defining the Font import properly\n",
    "from openpyxl.styles import Font, PatternFill, Border, Alignment\n",
    "\n",
    "# Define the function to copy cell properties again with the correct imports\n",
    "def copy_cell_properties(source_cell, target_cell):\n",
    "    # Copy value\n",
    "    target_cell.value = source_cell.value\n",
    "\n",
    "    # Copy font properties\n",
    "    if source_cell.font:\n",
    "        target_cell.font = Font(name=source_cell.font.name, \n",
    "                                size=source_cell.font.size,\n",
    "                                bold=source_cell.font.bold, \n",
    "                                italic=source_cell.font.italic,\n",
    "                                vertAlign=source_cell.font.vertAlign, \n",
    "                                underline=source_cell.font.underline,\n",
    "                                strike=source_cell.font.strike, \n",
    "                                color=source_cell.font.color)\n",
    "\n",
    "    # Copy fill properties\n",
    "    if source_cell.fill:\n",
    "        target_cell.fill = PatternFill(fill_type=source_cell.fill.fill_type,\n",
    "                                       start_color=source_cell.fill.start_color,\n",
    "                                       end_color=source_cell.fill.end_color)\n",
    "\n",
    "    # Copy border properties\n",
    "    if source_cell.border:\n",
    "        target_cell.border = Border(left=source_cell.border.left, \n",
    "                                    right=source_cell.border.right,\n",
    "                                    top=source_cell.border.top, \n",
    "                                    bottom=source_cell.border.bottom,\n",
    "                                    diagonal=source_cell.border.diagonal,\n",
    "                                    diagonal_direction=source_cell.border.diagonal_direction,\n",
    "                                    outline=source_cell.border.outline,\n",
    "                                    vertical=source_cell.border.vertical,\n",
    "                                    horizontal=source_cell.border.horizontal)\n",
    "\n",
    "    # Copy alignment properties\n",
    "    if source_cell.alignment:\n",
    "        target_cell.alignment = Alignment(horizontal=source_cell.alignment.horizontal,\n",
    "                                          vertical=source_cell.alignment.vertical,\n",
    "                                          text_rotation=source_cell.alignment.text_rotation,\n",
    "                                          wrap_text=source_cell.alignment.wrap_text,\n",
    "                                          shrink_to_fit=source_cell.alignment.shrink_to_fit,\n",
    "                                          indent=source_cell.alignment.indent)\n",
    "\n",
    "# Iterate over '物理値並び替え一覧' and compare with '生データ'\n",
    "for row, cell in enumerate(sheet_sorted_values['A'], start=1):\n",
    "    if cell.value:  # Check if there is a string in the cell\n",
    "        for raw_row, raw_cell in enumerate(sheet_raw_data['A'], start=1):\n",
    "            if cell.value == raw_cell.value:\n",
    "                # Output the matching string and copy cell properties in column A\n",
    "                copy_cell_properties(cell, new_sheet.cell(row=row, column=1))\n",
    "                # Output the value and copy cell properties from '物理値並び替え一覧' B column\n",
    "                copy_cell_properties(sheet_sorted_values.cell(row=row, column=2), new_sheet.cell(row=row, column=2))\n",
    "                \n",
    "                # Output the value from '物理値並び替え一覧' B column to the new file B column\n",
    "                #new_sheet.cell(row=row, column=2, value=sheet_sorted_values.cell(row=row, column=2).value)\n",
    "\n",
    "                # Output the values and copy cell properties from the next row of '生データ' in columns A and B\n",
    "                if raw_row < sheet_raw_data.max_row:\n",
    "                    for gyo in range(sheet_sorted_values.cell(row=row, column=2).value):\n",
    "                        gyo = gyo + 1\n",
    "                        for retsu in range(18):\n",
    "                            retsu = retsu + 1\n",
    "                            raw_next_cell = sheet_raw_data.cell(row=raw_row + gyo, column=retsu)\n",
    "                            new_next_cell = new_sheet.cell(row=row + gyo, column=retsu)\n",
    "                            copy_cell_properties(raw_next_cell, new_next_cell)\n",
    "                break\n",
    "\n",
    "\n",
    "# Save the updated new workbook\n",
    "updated_output_file_path_advanced_b = '変更後_一致した文字列_拡張版_B列.xlsx'\n",
    "new_workbook.save(updated_output_file_path_advanced_b)\n",
    "\n",
    "updated_output_file_path_advanced_b                "
   ]
  },
  {
   "cell_type": "code",
   "execution_count": null,
   "id": "34f08d41",
   "metadata": {},
   "outputs": [],
   "source": []
  },
  {
   "cell_type": "code",
   "execution_count": null,
   "id": "59a0e50e",
   "metadata": {},
   "outputs": [],
   "source": []
  }
 ],
 "metadata": {
  "kernelspec": {
   "display_name": "Python 3",
   "language": "python",
   "name": "python3"
  },
  "language_info": {
   "codemirror_mode": {
    "name": "ipython",
    "version": 3
   },
   "file_extension": ".py",
   "mimetype": "text/x-python",
   "name": "python",
   "nbconvert_exporter": "python",
   "pygments_lexer": "ipython3",
   "version": "3.7.4"
  }
 },
 "nbformat": 4,
 "nbformat_minor": 5
}
