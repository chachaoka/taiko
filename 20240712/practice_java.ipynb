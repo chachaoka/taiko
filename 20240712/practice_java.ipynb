{
 "cells": [
  {
   "cell_type": "code",
   "execution_count": 32,
   "id": "3d30cdc3-e96c-43ad-a230-2fd04d1da029",
   "metadata": {},
   "outputs": [
    {
     "name": "stdout",
     "output_type": "stream",
     "text": [
      "Compilation successful\n",
      "Execution successful\n",
      "Output:\n",
      "\n"
     ]
    }
   ],
   "source": [
    "import subprocess\n",
    "\n",
    "# javacのフルパスを指定してコンパイル\n",
    "compilation = subprocess.run([r\"C:\\Program Files\\Common Files\\Oracle\\Java\\javapath\\javac.exe\", \"HelloWorld.java\"], capture_output=True, text=True)\n",
    "#compilation = subprocess.run([\"C:/Program Files/Common Files/Oracle/Java/javapath/javac.exe\", \"HelloWorld.java\"], capture_output=True, text=True)\n",
    "\n",
    "# コンパイルの結果を確認\n",
    "if compilation.returncode == 0:\n",
    "    print(\"Compilation successful\")\n",
    "    \n",
    "    # Javaプログラムの実行\n",
    "    execution = subprocess.run([r\"C:\\Program Files\\Common Files\\Oracle\\Java\\javapath\\javac.exe\", \"HelloWorld.java\"], capture_output=True, text=True)\n",
    "    \n",
    "    # 実行結果を表示\n",
    "    if execution.returncode == 0:\n",
    "        print(\"Execution successful\")\n",
    "        print(\"Output:\")\n",
    "        print(execution.stdout)\n",
    "    else:\n",
    "        print(\"Execution failed:\")\n",
    "        print(execution.stderr)\n",
    "else:\n",
    "    print(\"Compilation failed:\")\n",
    "    print(compilation.stderr)"
   ]
  },
  {
   "cell_type": "code",
   "execution_count": 8,
   "id": "7db0c997-742d-4cf7-a890-959d33bbd6f3",
   "metadata": {
    "scrolled": true
   },
   "outputs": [
    {
     "name": "stdout",
     "output_type": "stream",
     "text": [
      "Current directory: C:\\Users\\chach\\Desktop\\kari\n",
      "Files and folders in the current directory:\n",
      "###コードγ.ipynb\n",
      ".DS_Store\n",
      ".ipynb_checkpoints\n",
      "20240418.ipynb\n",
      "20240423.ipynb\n",
      "20240603.xlsx\n",
      "aaa.csv\n",
      "aaaa.csv\n",
      "AI在庫分析.ipynb\n",
      "analysis_v2.py\n",
      "flag.pkl\n",
      "functions_v2.py\n",
      "HelloWorld.java\n",
      "kanban_flowchart.png\n",
      "kari.csv\n",
      "kari2.csv\n",
      "kari3.csv\n",
      "karidf.csv\n",
      "main_v2.py\n",
      "model_and_data.pkl\n",
      "practice_java.ipynb\n",
      "README.txt\n",
      "read_v2.py\n",
      "rf_model.pkl\n",
      "run.bat\n",
      "sample_data.csv\n",
      "SQL.ipynb\n",
      "test.xlsm\n",
      "Untitled.ipynb\n",
      "Untitled1.ipynb\n",
      "__pycache__\n",
      "★説明用.ipynb\n",
      "かんばん確認.ipynb\n",
      "コードver2.ipynb\n",
      "コードβ.ipynb\n",
      "コードβ_ver2.ipynb\n",
      "サンプル.csv\n",
      "サンプル2.csv\n",
      "ドキュメント\n",
      "モ.png\n",
      "ラック間口.csv\n",
      "リードタイム確認.ipynb\n",
      "一時保存データ.csv\n",
      "中間成果物\n",
      "定期便.csv\n",
      "最終成果物\n",
      "生データ\n",
      "発注データ.csv\n",
      "発注納入データ.csv\n",
      "納入データ.csv\n",
      "組立生産台数.csv\n",
      "色々.ipynb\n"
     ]
    }
   ],
   "source": [
    "import os\n",
    "\n",
    "# 現在のディレクトリのファイルとフォルダをリストする\n",
    "current_directory = os.getcwd()\n",
    "files_and_folders = os.listdir(current_directory)\n",
    "\n",
    "print(\"Current directory:\", current_directory)\n",
    "print(\"Files and folders in the current directory:\")\n",
    "for item in files_and_folders:\n",
    "    print(item)"
   ]
  },
  {
   "cell_type": "code",
   "execution_count": 11,
   "id": "6472ce93-6476-4c52-ab11-814f6b67ecf1",
   "metadata": {
    "scrolled": true
   },
   "outputs": [
    {
     "name": "stdout",
     "output_type": "stream",
     "text": [
      "Files and folders in the current directory:\n",
      "###コードγ.ipynb\n",
      ".DS_Store\n",
      ".ipynb_checkpoints\n",
      "20240418.ipynb\n",
      "20240423.ipynb\n",
      "20240603.xlsx\n",
      "aaa.csv\n",
      "aaaa.csv\n",
      "AI在庫分析.ipynb\n",
      "analysis_v2.py\n",
      "flag.pkl\n",
      "functions_v2.py\n",
      "HelloWorld.java\n",
      "kanban_flowchart.png\n",
      "kari.csv\n",
      "kari2.csv\n",
      "kari3.csv\n",
      "karidf.csv\n",
      "main_v2.py\n",
      "model_and_data.pkl\n",
      "practice_java.ipynb\n",
      "README.txt\n",
      "read_v2.py\n",
      "rf_model.pkl\n",
      "run.bat\n",
      "sample_data.csv\n",
      "SQL.ipynb\n",
      "test.xlsm\n",
      "Untitled.ipynb\n",
      "Untitled1.ipynb\n",
      "__pycache__\n",
      "★説明用.ipynb\n",
      "かんばん確認.ipynb\n",
      "コードver2.ipynb\n",
      "コードβ.ipynb\n",
      "コードβ_ver2.ipynb\n",
      "サンプル.csv\n",
      "サンプル2.csv\n",
      "ドキュメント\n",
      "モ.png\n",
      "ラック間口.csv\n",
      "リードタイム確認.ipynb\n",
      "一時保存データ.csv\n",
      "中間成果物\n",
      "定期便.csv\n",
      "最終成果物\n",
      "生データ\n",
      "発注データ.csv\n",
      "発注納入データ.csv\n",
      "納入データ.csv\n",
      "組立生産台数.csv\n",
      "色々.ipynb\n",
      "HelloWorld.java exists\n"
     ]
    }
   ],
   "source": [
    "import os\n",
    "\n",
    "# カレントディレクトリ内のファイルとフォルダをリストする\n",
    "files_and_folders = os.listdir()\n",
    "\n",
    "print(\"Files and folders in the current directory:\")\n",
    "for item in files_and_folders:\n",
    "    print(item)\n",
    "\n",
    "# ファイルの存在確認\n",
    "if \"HelloWorld.java\" in files_and_folders:\n",
    "    print(\"HelloWorld.java exists\")\n",
    "else:\n",
    "    print(\"HelloWorld.java does not exist\")\n"
   ]
  },
  {
   "cell_type": "code",
   "execution_count": 12,
   "id": "3278d3b0-658e-477e-b1db-53d684f33acc",
   "metadata": {},
   "outputs": [
    {
     "name": "stdout",
     "output_type": "stream",
     "text": [
      "javac is not found in PATH\n"
     ]
    }
   ],
   "source": [
    "import shutil\n",
    "\n",
    "# javacのパスを確認\n",
    "javac_path = shutil.which(\"javac\")\n",
    "if javac_path:\n",
    "    print(f\"javac is located at: {javac_path}\")\n",
    "else:\n",
    "    print(\"javac is not found in PATH\")"
   ]
  },
  {
   "cell_type": "code",
   "execution_count": null,
   "id": "869c8625-6685-4cae-b2b0-45bd4bb08640",
   "metadata": {},
   "outputs": [],
   "source": []
  }
 ],
 "metadata": {
  "kernelspec": {
   "display_name": "Python 3 (ipykernel)",
   "language": "python",
   "name": "python3"
  },
  "language_info": {
   "codemirror_mode": {
    "name": "ipython",
    "version": 3
   },
   "file_extension": ".py",
   "mimetype": "text/x-python",
   "name": "python",
   "nbconvert_exporter": "python",
   "pygments_lexer": "ipython3",
   "version": "3.12.4"
  }
 },
 "nbformat": 4,
 "nbformat_minor": 5
}
